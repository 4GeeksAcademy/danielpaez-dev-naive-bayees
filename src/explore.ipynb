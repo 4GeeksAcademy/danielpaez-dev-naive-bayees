{
 "cells": [
  {
   "cell_type": "markdown",
   "id": "41a58abe",
   "metadata": {},
   "source": [
    "# Naive Bayees Project\n",
    "## Table of contents\n",
    "### Explore Data Analysis (EDA)"
   ]
  },
  {
   "cell_type": "markdown",
   "id": "37feb507",
   "metadata": {},
   "source": [
    "* [0. Problem Statement](#co)\n",
    "* [1. Importing libraries](#c1)\n",
    "* [2. Data Collection](#c2)\n",
    "* [3. Exploration and Data Cleaning](#c3)\n",
    "  * [3.1 Drop Duplicate Information](#c3-1)\n",
    "  * [3.2 Drop Irrelevant Information](#c3-2)\n",
    "* [4. Univariate Analysis](#c4)\n",
    "  * [4.1 Dividing our dataset into categorical and numerical](#c4-1)\n",
    "  * [4.2 Categorical Variable Analysis](#c4-2)\n",
    "  * [4.3 Numerical Variable Analysis](#c4-3)\n",
    "* [5. Multivariate Analysis](#c5)\n",
    "  * [5.1 Encoding Categorical Values and Saving JSON Files](#c5-1)\n",
    "  * [5.2 Numerical-Categorical Analysis](#c5-2)\n",
    "* [6. Feature Engineering](#c6)\n",
    "  * [6.1 New Feature Inference](#c6-1)\n",
    "  * [6.2 Outliers Analysis](#c6-2)\n",
    "  * [6.3 Missing Values Analysis](#c6-3)\n",
    "  * [6.4 Split train/test of both Data Frames](#c6-4)\n",
    "* [7. Data Processing](#c7)\n",
    "  * [7.1 Normalization](#c7-1)\n",
    "  * [7.2 Minmax Scalation](#c7-2)"
   ]
  },
  {
   "cell_type": "markdown",
   "id": "0cb22aab",
   "metadata": {},
   "source": [
    "### Machine Learning"
   ]
  },
  {
   "cell_type": "markdown",
   "id": "6f606b0e",
   "metadata": {},
   "source": [
    "* [8. Machine Learning](#c8)\n",
    "  * [8.1 Which is the best dataset?](#c8-1)\n",
    "  * [8.2 Model Optimization](#c8-2)\n",
    "  * [8.3 Evaluation of the Model](#c8-3)"
   ]
  },
  {
   "cell_type": "markdown",
   "id": "5cb87a27",
   "metadata": {},
   "source": [
    "## 0. Problem Statement <a id='c0'></a>\n",
    "\n",
    "The objective of this exercise is to conduct an in-depth EDA analysis and develop a predictive naive-bayees model to classify reviews of Google Play."
   ]
  }
 ],
 "metadata": {
  "language_info": {
   "name": "python"
  }
 },
 "nbformat": 4,
 "nbformat_minor": 5
}
