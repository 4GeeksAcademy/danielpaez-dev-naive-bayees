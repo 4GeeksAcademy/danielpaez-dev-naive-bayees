{
 "cells": [
  {
   "cell_type": "markdown",
   "id": "41a58abe",
   "metadata": {},
   "source": [
    "# Naive Bayees Project\n",
    "## Table of contents"
   ]
  },
  {
   "cell_type": "markdown",
   "id": "37feb507",
   "metadata": {},
   "source": [
    "* [0. Problem Statement](#co)\n",
    "* [1. Importing libraries](#c1)\n",
    "* [2. Data Collection](#c2)\n",
    "* [3. Exploration and Data Cleaning](#c3)\n",
    "  * [3.1 Drop Null Values](#c3-1)\n",
    "  * [3.1 Drop Duplicate Information](#c3-2)\n",
    "  * [3.2 Drop Irrelevant Information](#c3-3)\n",
    "* [4. Univariate Analysis](#c4)\n",
    "  * [4.1 Categorical Variable Analysis](#c4-1)\n",
    "* [5. Encoding Categorical Values and Saving JSON Files](#c5)\n",
    "* [6. Prepare Data for Naive Bayees](#c6)\n",
    "  * [6.1 Split train/test of both Data Frames](#c6-1)\n",
    "  * [6.2 Transform Data](#c6-2)\n",
    "* [7. Machine Learning](#c4)"
   ]
  },
  {
   "cell_type": "markdown",
   "id": "5cb87a27",
   "metadata": {},
   "source": [
    "## 0. Problem Statement <a id='c0'></a>\n",
    "\n",
    "The objective of this exercise is to conduct an in-depth EDA analysis and develop a predictive naive-bayees model to classify reviews of Google Play."
   ]
  },
  {
   "cell_type": "markdown",
   "id": "5f46dc69",
   "metadata": {},
   "source": [
    "## 1. Importing libraries <a id='c1'></a>"
   ]
  },
  {
   "cell_type": "code",
   "execution_count": 78,
   "id": "15169bbd",
   "metadata": {},
   "outputs": [],
   "source": [
    "import pandas as pd\n",
    "import matplotlib.pyplot as plt\n",
    "import seaborn as sns\n",
    "import numpy as np\n",
    "import os\n",
    "import json\n",
    "import warnings\n",
    "from pickle import dump\n",
    "from sklearn.model_selection import train_test_split\n",
    "from sklearn.feature_extraction.text import CountVectorizer\n",
    "\n",
    "def warn(*args, **kwargs):\n",
    "    pass\n",
    "warnings.warn = warn\n",
    "warnings.filterwarnings(\"ignore\", category=FutureWarning)\n",
    "pd.set_option('display.max_columns', None)"
   ]
  },
  {
   "cell_type": "markdown",
   "id": "05253fd1",
   "metadata": {},
   "source": [
    "## 2. Data Collection <a id='c2'></a>"
   ]
  },
  {
   "cell_type": "code",
   "execution_count": 79,
   "id": "c31291f1",
   "metadata": {},
   "outputs": [
    {
     "data": {
      "text/html": [
       "<div>\n",
       "<style scoped>\n",
       "    .dataframe tbody tr th:only-of-type {\n",
       "        vertical-align: middle;\n",
       "    }\n",
       "\n",
       "    .dataframe tbody tr th {\n",
       "        vertical-align: top;\n",
       "    }\n",
       "\n",
       "    .dataframe thead th {\n",
       "        text-align: right;\n",
       "    }\n",
       "</style>\n",
       "<table border=\"1\" class=\"dataframe\">\n",
       "  <thead>\n",
       "    <tr style=\"text-align: right;\">\n",
       "      <th></th>\n",
       "      <th>package_name</th>\n",
       "      <th>review</th>\n",
       "      <th>polarity</th>\n",
       "    </tr>\n",
       "  </thead>\n",
       "  <tbody>\n",
       "    <tr>\n",
       "      <th>0</th>\n",
       "      <td>com.facebook.katana</td>\n",
       "      <td>privacy at least put some option appear offlin...</td>\n",
       "      <td>0</td>\n",
       "    </tr>\n",
       "    <tr>\n",
       "      <th>1</th>\n",
       "      <td>com.facebook.katana</td>\n",
       "      <td>messenger issues ever since the last update, i...</td>\n",
       "      <td>0</td>\n",
       "    </tr>\n",
       "    <tr>\n",
       "      <th>2</th>\n",
       "      <td>com.facebook.katana</td>\n",
       "      <td>profile any time my wife or anybody has more t...</td>\n",
       "      <td>0</td>\n",
       "    </tr>\n",
       "    <tr>\n",
       "      <th>3</th>\n",
       "      <td>com.facebook.katana</td>\n",
       "      <td>the new features suck for those of us who don'...</td>\n",
       "      <td>0</td>\n",
       "    </tr>\n",
       "    <tr>\n",
       "      <th>4</th>\n",
       "      <td>com.facebook.katana</td>\n",
       "      <td>forced reload on uploading pic on replying com...</td>\n",
       "      <td>0</td>\n",
       "    </tr>\n",
       "  </tbody>\n",
       "</table>\n",
       "</div>"
      ],
      "text/plain": [
       "          package_name                                             review  \\\n",
       "0  com.facebook.katana  privacy at least put some option appear offlin...   \n",
       "1  com.facebook.katana  messenger issues ever since the last update, i...   \n",
       "2  com.facebook.katana  profile any time my wife or anybody has more t...   \n",
       "3  com.facebook.katana  the new features suck for those of us who don'...   \n",
       "4  com.facebook.katana  forced reload on uploading pic on replying com...   \n",
       "\n",
       "   polarity  \n",
       "0         0  \n",
       "1         0  \n",
       "2         0  \n",
       "3         0  \n",
       "4         0  "
      ]
     },
     "execution_count": 79,
     "metadata": {},
     "output_type": "execute_result"
    }
   ],
   "source": [
    "URL = 'https://raw.githubusercontent.com/4GeeksAcademy/naive-bayes-project-tutorial/main/playstore_reviews.csv'\n",
    "\n",
    "def get_data(URL:str) -> pd.DataFrame:\n",
    "    total_data = pd.read_csv(URL, sep=',')\n",
    "    total_data.head()\n",
    "    return total_data\n",
    "\n",
    "get_data(URL)\n",
    "total_data = get_data(URL)\n",
    "total_data[\"review\"] = total_data[\"review\"].str.strip().str.lower()\n",
    "total_data.head()"
   ]
  },
  {
   "cell_type": "markdown",
   "id": "30c088c9",
   "metadata": {},
   "source": [
    "## 3. Exploration and Data Cleaning <a id='c3'></a>"
   ]
  },
  {
   "cell_type": "markdown",
   "id": "9ee6591b",
   "metadata": {},
   "source": [
    "#### 3.1 Drop Null Values <a id='c3-1'></a>"
   ]
  },
  {
   "cell_type": "code",
   "execution_count": 80,
   "id": "a9189473",
   "metadata": {},
   "outputs": [
    {
     "data": {
      "text/plain": [
       "package_name    0\n",
       "review          0\n",
       "polarity        0\n",
       "dtype: int64"
      ]
     },
     "execution_count": 80,
     "metadata": {},
     "output_type": "execute_result"
    }
   ],
   "source": [
    "total_data.isna().sum()"
   ]
  },
  {
   "cell_type": "markdown",
   "id": "121f5ae4",
   "metadata": {},
   "source": [
    "#### 3.2 Drop Duplicate Information <a id='c3-2'></a>"
   ]
  },
  {
   "cell_type": "code",
   "execution_count": 81,
   "id": "6511f17f",
   "metadata": {},
   "outputs": [
    {
     "name": "stdout",
     "output_type": "stream",
     "text": [
      "We have 1 of 891 rows duplicated\n"
     ]
    }
   ],
   "source": [
    "rows = total_data.shape[0]\n",
    "duplicated_rows = total_data.duplicated().sum()\n",
    "print(f'We have {duplicated_rows} of {rows} rows duplicated')\n",
    "total_data.drop_duplicates(inplace=True)"
   ]
  },
  {
   "cell_type": "markdown",
   "id": "db2dcdb2",
   "metadata": {},
   "source": [
    "#### 3.3 Drop Irrelevant Information <a id='c3-3'></a>"
   ]
  },
  {
   "cell_type": "markdown",
   "id": "e51f84a5",
   "metadata": {},
   "source": [
    "Since we don't need package_name for this exercise we'll delete it."
   ]
  },
  {
   "cell_type": "code",
   "execution_count": 82,
   "id": "3e1150dc",
   "metadata": {},
   "outputs": [
    {
     "data": {
      "text/html": [
       "<div>\n",
       "<style scoped>\n",
       "    .dataframe tbody tr th:only-of-type {\n",
       "        vertical-align: middle;\n",
       "    }\n",
       "\n",
       "    .dataframe tbody tr th {\n",
       "        vertical-align: top;\n",
       "    }\n",
       "\n",
       "    .dataframe thead th {\n",
       "        text-align: right;\n",
       "    }\n",
       "</style>\n",
       "<table border=\"1\" class=\"dataframe\">\n",
       "  <thead>\n",
       "    <tr style=\"text-align: right;\">\n",
       "      <th></th>\n",
       "      <th>review</th>\n",
       "      <th>polarity</th>\n",
       "    </tr>\n",
       "  </thead>\n",
       "  <tbody>\n",
       "    <tr>\n",
       "      <th>0</th>\n",
       "      <td>privacy at least put some option appear offlin...</td>\n",
       "      <td>0</td>\n",
       "    </tr>\n",
       "    <tr>\n",
       "      <th>1</th>\n",
       "      <td>messenger issues ever since the last update, i...</td>\n",
       "      <td>0</td>\n",
       "    </tr>\n",
       "    <tr>\n",
       "      <th>2</th>\n",
       "      <td>profile any time my wife or anybody has more t...</td>\n",
       "      <td>0</td>\n",
       "    </tr>\n",
       "    <tr>\n",
       "      <th>3</th>\n",
       "      <td>the new features suck for those of us who don'...</td>\n",
       "      <td>0</td>\n",
       "    </tr>\n",
       "    <tr>\n",
       "      <th>4</th>\n",
       "      <td>forced reload on uploading pic on replying com...</td>\n",
       "      <td>0</td>\n",
       "    </tr>\n",
       "    <tr>\n",
       "      <th>...</th>\n",
       "      <td>...</td>\n",
       "      <td>...</td>\n",
       "    </tr>\n",
       "    <tr>\n",
       "      <th>886</th>\n",
       "      <td>loved it i loooooooooooooovvved it because it ...</td>\n",
       "      <td>1</td>\n",
       "    </tr>\n",
       "    <tr>\n",
       "      <th>887</th>\n",
       "      <td>all time legendary game the birthday party lev...</td>\n",
       "      <td>1</td>\n",
       "    </tr>\n",
       "    <tr>\n",
       "      <th>888</th>\n",
       "      <td>ads are way to heavy listen to the bad reviews...</td>\n",
       "      <td>0</td>\n",
       "    </tr>\n",
       "    <tr>\n",
       "      <th>889</th>\n",
       "      <td>fun works perfectly well. ads aren't as annoyi...</td>\n",
       "      <td>1</td>\n",
       "    </tr>\n",
       "    <tr>\n",
       "      <th>890</th>\n",
       "      <td>they're everywhere i see angry birds everywher...</td>\n",
       "      <td>1</td>\n",
       "    </tr>\n",
       "  </tbody>\n",
       "</table>\n",
       "<p>890 rows × 2 columns</p>\n",
       "</div>"
      ],
      "text/plain": [
       "                                                review  polarity\n",
       "0    privacy at least put some option appear offlin...         0\n",
       "1    messenger issues ever since the last update, i...         0\n",
       "2    profile any time my wife or anybody has more t...         0\n",
       "3    the new features suck for those of us who don'...         0\n",
       "4    forced reload on uploading pic on replying com...         0\n",
       "..                                                 ...       ...\n",
       "886  loved it i loooooooooooooovvved it because it ...         1\n",
       "887  all time legendary game the birthday party lev...         1\n",
       "888  ads are way to heavy listen to the bad reviews...         0\n",
       "889  fun works perfectly well. ads aren't as annoyi...         1\n",
       "890  they're everywhere i see angry birds everywher...         1\n",
       "\n",
       "[890 rows x 2 columns]"
      ]
     },
     "execution_count": 82,
     "metadata": {},
     "output_type": "execute_result"
    }
   ],
   "source": [
    "total_data.drop('package_name', axis=1)"
   ]
  },
  {
   "cell_type": "markdown",
   "id": "6566ab26",
   "metadata": {},
   "source": [
    "## 4. Univariate Analysis <a id='c4'></a>"
   ]
  },
  {
   "cell_type": "markdown",
   "id": "cd47e04b",
   "metadata": {},
   "source": [
    "### 4.1 Categorical Variable Analysis <a id='c4-1'></a>"
   ]
  },
  {
   "cell_type": "markdown",
   "id": "8ec9acaa",
   "metadata": {},
   "source": [
    "Since `review` is text data, it's not a categorical variable."
   ]
  },
  {
   "cell_type": "code",
   "execution_count": 83,
   "id": "a5a99d46",
   "metadata": {},
   "outputs": [
    {
     "data": {
      "image/png": "[encoded data removed]",
      "text/plain": [
       "<Figure size 800x600 with 1 Axes>"
      ]
     },
     "metadata": {},
     "output_type": "display_data"
    }
   ],
   "source": [
    "# --- 'Outcome Plot' ---\n",
    "plt.figure(figsize=(8, 6))\n",
    "sns.countplot(data=total_data, x=\"polarity\", palette='viridis')\n",
    "plt.title(\"Polarity Distribution\", fontsize=16)\n",
    "plt.xlabel(\"Polarity (0: Negative Comment, 1: Positive Comment)\", fontsize=12)\n",
    "plt.xticks(rotation=45, ha='right') \n",
    "plt.ylabel('Count', fontsize=12)\n",
    "\n",
    "plt.tight_layout()\n",
    "plt.show()"
   ]
  },
  {
   "cell_type": "markdown",
   "id": "4cacd769",
   "metadata": {},
   "source": [
    "**Conclusions:**\n",
    "\n",
    "- **Polarity**: There is nearly a half negative comments than postive comments."
   ]
  },
  {
   "cell_type": "markdown",
   "id": "4bff9156",
   "metadata": {},
   "source": [
    "### 5 Encoding Categorical Values and Saving JSON Files <a id='c5'></a>"
   ]
  },
  {
   "cell_type": "code",
   "execution_count": 84,
   "id": "7ed60c5e",
   "metadata": {},
   "outputs": [
    {
     "name": "stdout",
     "output_type": "stream",
     "text": [
      "          package_name                                             review  \\\n",
      "0  com.facebook.katana  privacy at least put some option appear offlin...   \n",
      "1  com.facebook.katana  messenger issues ever since the last update, i...   \n",
      "2  com.facebook.katana  profile any time my wife or anybody has more t...   \n",
      "3  com.facebook.katana  the new features suck for those of us who don'...   \n",
      "4  com.facebook.katana  forced reload on uploading pic on replying com...   \n",
      "\n",
      "   polarity  \n",
      "0  negative  \n",
      "1  negative  \n",
      "2  negative  \n",
      "3  negative  \n",
      "4  negative  \n"
     ]
    }
   ],
   "source": [
    "mapping = {0: 'negative', 1: 'positive'}\n",
    "\n",
    "total_data_factorized = total_data.copy()\n",
    "total_data_factorized['polarity'] = total_data_factorized['polarity'].map(mapping)\n",
    "\n",
    "output_dir = os.path.join('factorize_data')\n",
    "os.makedirs(output_dir, exist_ok=True)\n",
    "\n",
    "json_file_path = os.path.join(output_dir, \"factorized_polarity.json\")\n",
    "with open(json_file_path, \"w\") as f:\n",
    "    json.dump(mapping, f, indent=4)\n",
    "\n",
    "print(total_data_factorized.head())"
   ]
  },
  {
   "cell_type": "markdown",
   "id": "6a1de312",
   "metadata": {},
   "source": [
    "## 6 Prepare Data for Naive Bayees <a id='c6'></a>"
   ]
  },
  {
   "cell_type": "markdown",
   "id": "bb2956d5",
   "metadata": {},
   "source": [
    "### 6.1 Split train/test of both Data Frames <a id='c6-1'></a>"
   ]
  },
  {
   "cell_type": "markdown",
   "id": "c0b44b55",
   "metadata": {},
   "source": [
    "A crucial step in data preparation is splitting the dataset into training (train) and testing (test) sets. This is vital for two main reasons:\n",
    "\n",
    "- **Prevent Overfitting**: It ensures the model learns generalizable patterns from the train set rather than simply memorizing noise or specific training examples.\n",
    "\n",
    "- **Evaluate Generalization**: By assessing performance on the unseen test set, we gain a realistic estimate of how well the model will perform on new, real-world data."
   ]
  },
  {
   "cell_type": "code",
   "execution_count": 85,
   "id": "22ccb73f",
   "metadata": {},
   "outputs": [],
   "source": [
    "X = total_data['review']\n",
    "y = total_data['polarity']\n",
    "X_train, X_test, y_train, y_test = train_test_split(X, y, test_size=0.2, random_state=42)"
   ]
  },
  {
   "cell_type": "markdown",
   "id": "275d40d8",
   "metadata": {},
   "source": [
    "### 6.2 Transform Data  <a id='c6-2'></a>"
   ]
  },
  {
   "cell_type": "code",
   "execution_count": 86,
   "id": "f3da5077",
   "metadata": {},
   "outputs": [],
   "source": [
    "vec_model = CountVectorizer(stop_words = \"english\")\n",
    "X_train = vec_model.fit_transform(X_train).toarray()\n",
    "X_test = vec_model.transform(X_test).toarray()"
   ]
  },
  {
   "cell_type": "markdown",
   "id": "1d54107c",
   "metadata": {},
   "source": [
    "## 7. Machine Learning <a id='c7'></a>"
   ]
  }
 ],
 "metadata": {
  "kernelspec": {
   "display_name": "Python 3",
   "language": "python",
   "name": "python3"
  },
  "language_info": {
   "codemirror_mode": {
    "name": "ipython",
    "version": 3
   },
   "file_extension": ".py",
   "mimetype": "text/x-python",
   "name": "python",
   "nbconvert_exporter": "python",
   "pygments_lexer": "ipython3",
   "version": "3.11.4"
  }
 },
 "nbformat": 4,
 "nbformat_minor": 5
}
