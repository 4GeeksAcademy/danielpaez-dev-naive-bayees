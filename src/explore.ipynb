{
 "cells": [
  {
   "cell_type": "markdown",
   "id": "41a58abe",
   "metadata": {},
   "source": [
    "# Naive Bayees Project\n",
    "## Table of contents\n",
    "### Explore Data Analysis (EDA)"
   ]
  },
  {
   "cell_type": "markdown",
   "id": "37feb507",
   "metadata": {},
   "source": [
    "* [0. Problem Statement](#co)\n",
    "* [1. Importing libraries](#c1)\n",
    "* [2. Data Collection](#c2)\n",
    "* [3. Exploration and Data Cleaning](#c3)\n",
    "  * [3.1 Drop Duplicate Information](#c3-1)\n",
    "  * [3.2 Drop Irrelevant Information](#c3-2)\n",
    "* [4. Univariate Analysis](#c4)\n",
    "  * [4.1 Dividing our dataset into categorical and numerical](#c4-1)\n",
    "  * [4.2 Categorical Variable Analysis](#c4-2)\n",
    "  * [4.3 Numerical Variable Analysis](#c4-3)\n",
    "* [5. Multivariate Analysis](#c5)\n",
    "  * [5.1 Encoding Categorical Values and Saving JSON Files](#c5-1)\n",
    "  * [5.2 Numerical-Categorical Analysis](#c5-2)\n",
    "* [6. Feature Engineering](#c6)\n",
    "  * [6.1 New Feature Inference](#c6-1)\n",
    "  * [6.2 Outliers Analysis](#c6-2)\n",
    "  * [6.3 Missing Values Analysis](#c6-3)\n",
    "  * [6.4 Split train/test of both Data Frames](#c6-4)\n",
    "* [7. Data Processing](#c7)\n",
    "  * [7.1 Normalization](#c7-1)\n",
    "  * [7.2 Minmax Scalation](#c7-2)"
   ]
  },
  {
   "cell_type": "markdown",
   "id": "0cb22aab",
   "metadata": {},
   "source": [
    "### Machine Learning"
   ]
  },
  {
   "cell_type": "markdown",
   "id": "6f606b0e",
   "metadata": {},
   "source": [
    "* [8. Machine Learning](#c8)\n",
    "  * [8.1 Which is the best dataset?](#c8-1)\n",
    "  * [8.2 Model Optimization](#c8-2)\n",
    "  * [8.3 Evaluation of the Model](#c8-3)"
   ]
  },
  {
   "cell_type": "markdown",
   "id": "5cb87a27",
   "metadata": {},
   "source": [
    "## 0. Problem Statement <a id='c0'></a>\n",
    "\n",
    "The objective of this exercise is to conduct an in-depth EDA analysis and develop a predictive naive-bayees model to classify reviews of Google Play."
   ]
  },
  {
   "cell_type": "markdown",
   "id": "5f46dc69",
   "metadata": {},
   "source": [
    "## 1. Importing libraries <a id='c1'></a>"
   ]
  },
  {
   "cell_type": "code",
   "execution_count": 4,
   "id": "15169bbd",
   "metadata": {},
   "outputs": [],
   "source": [
    "import pandas as pd\n",
    "import matplotlib.pyplot as plt\n",
    "import seaborn as sns\n",
    "import numpy as np\n",
    "import os\n",
    "import json\n",
    "import warnings\n",
    "from pickle import dump\n",
    "from sklearn.model_selection import train_test_split, GridSearchCV\n",
    "from sklearn.preprocessing import StandardScaler, MinMaxScaler\n",
    "from sklearn.metrics import accuracy_score\n",
    "from sklearn.naive_bayes import MultinomialNB\n",
    "\n",
    "def warn(*args, **kwargs):\n",
    "    pass\n",
    "warnings.warn = warn\n",
    "warnings.filterwarnings(\"ignore\", category=FutureWarning)\n",
    "pd.set_option('display.max_columns', None)"
   ]
  },
  {
   "cell_type": "markdown",
   "id": "05253fd1",
   "metadata": {},
   "source": [
    "## 2. Data Collection <a id='c2'></a>"
   ]
  },
  {
   "cell_type": "code",
   "execution_count": 8,
   "id": "c31291f1",
   "metadata": {},
   "outputs": [
    {
     "data": {
      "text/html": [
       "<div>\n",
       "<style scoped>\n",
       "    .dataframe tbody tr th:only-of-type {\n",
       "        vertical-align: middle;\n",
       "    }\n",
       "\n",
       "    .dataframe tbody tr th {\n",
       "        vertical-align: top;\n",
       "    }\n",
       "\n",
       "    .dataframe thead th {\n",
       "        text-align: right;\n",
       "    }\n",
       "</style>\n",
       "<table border=\"1\" class=\"dataframe\">\n",
       "  <thead>\n",
       "    <tr style=\"text-align: right;\">\n",
       "      <th></th>\n",
       "      <th>package_name</th>\n",
       "      <th>review</th>\n",
       "      <th>polarity</th>\n",
       "    </tr>\n",
       "  </thead>\n",
       "  <tbody>\n",
       "    <tr>\n",
       "      <th>0</th>\n",
       "      <td>com.facebook.katana</td>\n",
       "      <td>privacy at least put some option appear offlin...</td>\n",
       "      <td>0</td>\n",
       "    </tr>\n",
       "    <tr>\n",
       "      <th>1</th>\n",
       "      <td>com.facebook.katana</td>\n",
       "      <td>messenger issues ever since the last update, i...</td>\n",
       "      <td>0</td>\n",
       "    </tr>\n",
       "    <tr>\n",
       "      <th>2</th>\n",
       "      <td>com.facebook.katana</td>\n",
       "      <td>profile any time my wife or anybody has more t...</td>\n",
       "      <td>0</td>\n",
       "    </tr>\n",
       "    <tr>\n",
       "      <th>3</th>\n",
       "      <td>com.facebook.katana</td>\n",
       "      <td>the new features suck for those of us who don'...</td>\n",
       "      <td>0</td>\n",
       "    </tr>\n",
       "    <tr>\n",
       "      <th>4</th>\n",
       "      <td>com.facebook.katana</td>\n",
       "      <td>forced reload on uploading pic on replying com...</td>\n",
       "      <td>0</td>\n",
       "    </tr>\n",
       "  </tbody>\n",
       "</table>\n",
       "</div>"
      ],
      "text/plain": [
       "          package_name                                             review  \\\n",
       "0  com.facebook.katana  privacy at least put some option appear offlin...   \n",
       "1  com.facebook.katana  messenger issues ever since the last update, i...   \n",
       "2  com.facebook.katana  profile any time my wife or anybody has more t...   \n",
       "3  com.facebook.katana  the new features suck for those of us who don'...   \n",
       "4  com.facebook.katana  forced reload on uploading pic on replying com...   \n",
       "\n",
       "   polarity  \n",
       "0         0  \n",
       "1         0  \n",
       "2         0  \n",
       "3         0  \n",
       "4         0  "
      ]
     },
     "execution_count": 8,
     "metadata": {},
     "output_type": "execute_result"
    }
   ],
   "source": [
    "URL = 'https://raw.githubusercontent.com/4GeeksAcademy/naive-bayes-project-tutorial/main/playstore_reviews.csv'\n",
    "\n",
    "def get_data(URL:str) -> pd.DataFrame:\n",
    "    total_data = pd.read_csv(URL, sep=',')\n",
    "    total_data.head()\n",
    "    return total_data\n",
    "\n",
    "get_data(URL)\n",
    "total_data = get_data(URL)\n",
    "total_data[\"review\"] = total_data[\"review\"].str.strip().str.lower()\n",
    "total_data.head()"
   ]
  }
 ],
 "metadata": {
  "kernelspec": {
   "display_name": "Python 3",
   "language": "python",
   "name": "python3"
  },
  "language_info": {
   "codemirror_mode": {
    "name": "ipython",
    "version": 3
   },
   "file_extension": ".py",
   "mimetype": "text/x-python",
   "name": "python",
   "nbconvert_exporter": "python",
   "pygments_lexer": "ipython3",
   "version": "3.11.4"
  }
 },
 "nbformat": 4,
 "nbformat_minor": 5
}
